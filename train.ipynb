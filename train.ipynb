{
 "metadata": {
  "language_info": {
   "codemirror_mode": {
    "name": "ipython",
    "version": 3
   },
   "file_extension": ".py",
   "mimetype": "text/x-python",
   "name": "python",
   "nbconvert_exporter": "python",
   "pygments_lexer": "ipython3",
   "version": "3.8.5"
  },
  "orig_nbformat": 2,
  "kernelspec": {
   "name": "python385jvsc74a57bd03c07d53d8bb98cb1108d6f0371eb326d760a49095e6b6528e25472d42f6458fc",
   "display_name": "Python 3.8.5 64-bit ('base': conda)"
  }
 },
 "nbformat": 4,
 "nbformat_minor": 2,
 "cells": [
  {
   "cell_type": "code",
   "execution_count": 1,
   "metadata": {},
   "outputs": [
    {
     "output_type": "stream",
     "name": "stderr",
     "text": [
      "Using backend: pytorch\n"
     ]
    }
   ],
   "source": [
    "import dgl\n",
    "import dgl.function as fn\n",
    "\n",
    "import torch\n",
    "import torch.nn as nn\n",
    "import torch.nn.functional as F"
   ]
  },
  {
   "cell_type": "code",
   "execution_count": 2,
   "metadata": {},
   "outputs": [],
   "source": [
    "import pickle\n",
    "\n",
    "# Load the training and validation molecules.\n",
    "train_path = \"data/zinc_250k_train.pkl\"\n",
    "valid_path = \"data/zinc_250k_valid.pkl\"\n",
    "\n",
    "with open(train_path, \"rb\") as f:\n",
    "    train_graphs = pickle.load(f)\n",
    "\n",
    "with open(valid_path, \"rb\") as f:\n",
    "    valid_graphs = pickle.load(f)"
   ]
  },
  {
   "cell_type": "code",
   "execution_count": 3,
   "metadata": {},
   "outputs": [
    {
     "output_type": "stream",
     "name": "stderr",
     "text": [
      "RDKit WARNING: [18:24:39] Enabling RDKit 2019.09.3 jupyter extensions\n"
     ]
    }
   ],
   "source": [
    "from utils import to_dgl_graph\n",
    "\n",
    "# Turn the molecules into DGLGraph, so as to train a model with the Deep Graph Library (DGL).\n",
    "train_dataset = []\n",
    "valid_dataset = []\n",
    "\n",
    "for graph in train_graphs:\n",
    "    train_dataset.append(to_dgl_graph(graph))\n",
    "\n",
    "for graph in valid_graphs:\n",
    "    valid_dataset.append(to_dgl_graph(graph))\n",
    "\n",
    "nb_node_types = 14\n",
    "nb_edge_types = 3"
   ]
  },
  {
   "cell_type": "code",
   "execution_count": 4,
   "metadata": {},
   "outputs": [],
   "source": [
    "from torch.utils.data import DataLoader\n",
    "\n",
    "# Create mini-batches\n",
    "def collate(samples):\n",
    "    return dgl.batch(samples)\n",
    "\n",
    "train_loader = DataLoader(train_dataset, batch_size=32, collate_fn=collate, shuffle=True)\n",
    "valid_loader = DataLoader(valid_dataset, batch_size=32, collate_fn=collate)"
   ]
  },
  {
   "cell_type": "code",
   "execution_count": 7,
   "metadata": {},
   "outputs": [
    {
     "output_type": "stream",
     "name": "stdout",
     "text": [
      "VGAE(\n  (conv1): RelGraphConv(\n    (dropout): Dropout(p=0.0, inplace=False)\n  )\n  (conv_mu): RelGraphConv(\n    (dropout): Dropout(p=0.0, inplace=False)\n  )\n  (conv_logstd): RelGraphConv(\n    (dropout): Dropout(p=0.0, inplace=False)\n  )\n  (node_types_fc): Linear(in_features=32, out_features=14, bias=True)\n  (edge_existence_fc): Linear(in_features=124, out_features=1, bias=True)\n  (edge_types_fc): Linear(in_features=124, out_features=3, bias=True)\n)\n"
     ]
    }
   ],
   "source": [
    "from model import VGAE\n",
    "\n",
    "# Create the model and the optimizer\n",
    "device = \"cpu\"\n",
    "n_epochs = 2\n",
    "lr = 0.01\n",
    "\n",
    "model = VGAE(nb_node_types, nb_edge_types).to(device)\n",
    "optimizer = torch.optim.Adam(model.parameters(), lr=lr)\n",
    "\n",
    "print(model)"
   ]
  },
  {
   "cell_type": "code",
   "execution_count": 8,
   "metadata": {},
   "outputs": [
    {
     "output_type": "stream",
     "name": "stderr",
     "text": [
      "100%|██████████| 7000/7000 [26:26<00:00,  4.41it/s]\n",
      "  0%|          | 0/7000 [00:00<?, ?it/s]Epoch 0, train_loss: 2.230, valid_loss: 2.211\n",
      "100%|██████████| 7000/7000 [25:54<00:00,  4.50it/s]\n",
      "Epoch 1, train_loss: 2.210, valid_loss: 2.211\n"
     ]
    }
   ],
   "source": [
    "from tqdm import tqdm\n",
    "from utils import recon_loss, kl_loss\n",
    "\n",
    "def eval(dataloader, model, device):\n",
    "    eval_loss = 0\n",
    "    model.eval()\n",
    "\n",
    "    with torch.no_grad():\n",
    "        for bg in dataloader:\n",
    "            bg = bg.to(device)\n",
    "\n",
    "            n_features = bg.ndata[\"feats\"]\n",
    "            e_types = bg.edata[\"type\"]\n",
    "\n",
    "            pred_graphs, mu, logstd = model(bg, n_features, e_types)\n",
    "            loss = recon_loss(pred_graphs, dgl.unbatch(bg), device) + kl_loss(mu, logstd)\n",
    "            eval_loss += loss.item()\n",
    "\n",
    "    model.train()\n",
    "    return eval_loss / len(dataloader)\n",
    "\n",
    "# Train the model \n",
    "for epoch in range(n_epochs):\n",
    "    train_loss = 0\n",
    "    model.train()\n",
    "\n",
    "    for bg in tqdm(train_loader):\n",
    "        bg = bg.to(device)\n",
    "            \n",
    "        n_features = bg.ndata[\"feats\"]\n",
    "        e_types = bg.edata[\"type\"]\n",
    "\n",
    "        pred_graphs, mu, logstd = model(bg, n_features, e_types)\n",
    "\n",
    "        loss = recon_loss(pred_graphs, dgl.unbatch(bg), device) + kl_loss(mu, logstd)\n",
    "        train_loss += loss.item()\n",
    "\n",
    "        optimizer.zero_grad()\n",
    "        loss.backward()\n",
    "        optimizer.step()\n",
    "\n",
    "    train_loss /= len(train_loader)\n",
    "    valid_loss = eval(valid_loader, model, device)\n",
    "        \n",
    "    print(\"Epoch {}, train_loss: {:,.3f}, valid_loss: {:,.3f}\".format(epoch, train_loss, valid_loss))"
   ]
  },
  {
   "cell_type": "code",
   "execution_count": 9,
   "metadata": {},
   "outputs": [],
   "source": [
    "# Save model to disk\n",
    "torch.save(model.state_dict(), \"trained_model.pkl\")"
   ]
  }
 ]
}