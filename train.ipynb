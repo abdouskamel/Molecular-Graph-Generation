{
 "metadata": {
  "language_info": {
   "codemirror_mode": {
    "name": "ipython",
    "version": 3
   },
   "file_extension": ".py",
   "mimetype": "text/x-python",
   "name": "python",
   "nbconvert_exporter": "python",
   "pygments_lexer": "ipython3",
   "version": "3.8.5"
  },
  "orig_nbformat": 2,
  "kernelspec": {
   "name": "python385jvsc74a57bd03c07d53d8bb98cb1108d6f0371eb326d760a49095e6b6528e25472d42f6458fc",
   "display_name": "Python 3.8.5 64-bit ('base': conda)"
  }
 },
 "nbformat": 4,
 "nbformat_minor": 2,
 "cells": [
  {
   "cell_type": "code",
   "execution_count": null,
   "metadata": {},
   "outputs": [],
   "source": [
    "import dgl\n",
    "import dgl.function as fn\n",
    "\n",
    "import torch\n",
    "import torch.nn as nn\n",
    "import torch.nn.functional as F\n",
    "\n",
    "import matplotlib.pyplot as plt\n",
    "plt.rcParams[\"figure.figsize\"] = (20, 10)"
   ]
  },
  {
   "cell_type": "code",
   "execution_count": null,
   "metadata": {},
   "outputs": [],
   "source": [
    "import pickle\n",
    "\n",
    "# Load the training and validation molecules.\n",
    "train_path = \"data/zinc_250k_train.pkl\"\n",
    "valid_path = \"data/zinc_250k_valid.pkl\"\n",
    "\n",
    "with open(train_path, \"rb\") as f:\n",
    "    train_graphs = pickle.load(f)\n",
    "\n",
    "with open(valid_path, \"rb\") as f:\n",
    "    valid_graphs = pickle.load(f)"
   ]
  },
  {
   "cell_type": "code",
   "execution_count": null,
   "metadata": {},
   "outputs": [],
   "source": [
    "from utils import to_dgl_graph\n",
    "\n",
    "# Turn the molecules into DGLGraph, so as to train a model with the Deep Graph Library (DGL).\n",
    "train_dataset = []\n",
    "valid_dataset = []\n",
    "\n",
    "for graph in train_graphs:\n",
    "    train_dataset.append(to_dgl_graph(graph))\n",
    "\n",
    "for graph in valid_graphs:\n",
    "    valid_dataset.append(to_dgl_graph(graph))\n",
    "\n",
    "nb_node_types = 14\n",
    "nb_edge_types = 3"
   ]
  },
  {
   "cell_type": "code",
   "execution_count": null,
   "metadata": {},
   "outputs": [],
   "source": [
    "from torch.utils.data import DataLoader\n",
    "\n",
    "# Create mini-batches\n",
    "def collate(samples):\n",
    "    return dgl.batch(samples)\n",
    "\n",
    "train_loader = DataLoader(train_dataset, batch_size=32, collate_fn=collate, shuffle=True)\n",
    "valid_loader = DataLoader(valid_dataset, batch_size=32, collate_fn=collate)"
   ]
  },
  {
   "cell_type": "code",
   "execution_count": null,
   "metadata": {},
   "outputs": [],
   "source": [
    "import model\n",
    "import importlib\n",
    "importlib.reload(model)\n",
    "\n",
    "from model import VGAE\n",
    "\n",
    "# Create the model and the optimizer\n",
    "n_epochs = 1\n",
    "lr = 0.01\n",
    "\n",
    "model = VGAE(nb_node_types, nb_edge_types)\n",
    "optimizer = torch.optim.Adam(model.parameters(), lr=lr)\n",
    "\n",
    "print(model)"
   ]
  },
  {
   "cell_type": "code",
   "execution_count": null,
   "metadata": {
    "tags": []
   },
   "outputs": [],
   "source": [
    "import utils\n",
    "import importlib\n",
    "importlib.reload(utils)\n",
    "\n",
    "from tqdm import tqdm\n",
    "from utils import recon_loss, kl_loss\n",
    "\n",
    "def eval(dataloader, model):\n",
    "    eval_recon_loss = 0\n",
    "    eval_kl_loss = 0\n",
    "    model.eval()\n",
    "\n",
    "    with torch.no_grad():\n",
    "        for bg in dataloader:\n",
    "            n_features = bg.ndata[\"feats\"]\n",
    "            e_types = bg.edata[\"type\"]\n",
    "            pred_graphs, mu, logstd = model(bg, n_features, e_types)\n",
    "\n",
    "            eval_recon_loss += recon_loss(pred_graphs, dgl.unbatch(bg)).item()\n",
    "            eval_kl_loss += kl_loss(mu, logstd).item()\n",
    "\n",
    "    model.train()\n",
    "    return eval_recon_loss / len(dataloader), eval_kl_loss / len(dataloader)\n",
    "\n",
    "# Train the model \n",
    "recon_loss_history = []\n",
    "kl_loss_history = []\n",
    "\n",
    "for epoch in range(n_epochs):\n",
    "    train_loss = 0\n",
    "    model.train()\n",
    "\n",
    "    for bg in tqdm(train_loader):\n",
    "        n_features = bg.ndata[\"feats\"]\n",
    "        e_types = bg.edata[\"type\"]\n",
    "        pred_graphs, mu, logstd = model(bg, n_features, e_types)\n",
    "\n",
    "        train_recon_loss = recon_loss(pred_graphs, dgl.unbatch(bg))\n",
    "        train_kl_loss = kl_loss(mu, logstd)\n",
    "        loss = train_recon_loss + train_kl_loss\n",
    "\n",
    "        recon_loss_history.append(train_recon_loss.item())\n",
    "        kl_loss_history.append(train_kl_loss.item())\n",
    "        train_loss += loss.item()\n",
    "\n",
    "        optimizer.zero_grad()\n",
    "        loss.backward()\n",
    "        optimizer.step()\n",
    "\n",
    "    train_loss /= len(train_loader)\n",
    "    valid_recon_loss, valid_kl_loss = eval(valid_loader, model, device)\n",
    "        \n",
    "    print(\"Epoch {}, train_loss: {:,.3f}, valid_recon_loss: {:,.3f}, valid_kl_loss: {:,.3f}\".format(epoch, train_loss, valid_recon_loss, valid_kl_loss))\n",
    "    torch.save(model.state_dict(), \"trained_model_epoch_{}.pkl\".format(epoch))"
   ]
  },
  {
   "cell_type": "code",
   "execution_count": null,
   "metadata": {},
   "outputs": [],
   "source": [
    "# Plot training reconstruction loss\n",
    "plt.ylabel('Reconstruction loss')\n",
    "plt.xlabel('Number of processed batches')\n",
    "plt.plot(recon_loss_history)"
   ]
  },
  {
   "cell_type": "code",
   "execution_count": null,
   "metadata": {},
   "outputs": [],
   "source": [
    "# Plot training KL loss\n",
    "plt.ylabel('KL loss')\n",
    "plt.xlabel('Number of processed batches')\n",
    "plt.plot(kl_loss_history)"
   ]
  },
  {
   "cell_type": "code",
   "execution_count": null,
   "metadata": {},
   "outputs": [],
   "source": [
    "# Save model to disk\n",
    "torch.save(model.state_dict(), \"trained_model.pkl\")"
   ]
  },
  {
   "cell_type": "code",
   "execution_count": null,
   "metadata": {},
   "outputs": [],
   "source": []
  }
 ]
}